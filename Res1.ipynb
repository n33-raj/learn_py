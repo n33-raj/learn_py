{
  "cells": [
    {
      "cell_type": "markdown",
      "source": [
        "**Connecting Colab to G-Drive**"
      ],
      "metadata": {
        "id": "u8sJZ4PxGa0K"
      }
    },
    {
      "cell_type": "code",
      "execution_count": null,
      "metadata": {
        "colab": {
          "base_uri": "https://localhost:8080/"
        },
        "id": "Qt6DZqxEtaOJ",
        "outputId": "8da0d028-94fa-4a58-f74a-7c5d01d8b653"
      },
      "outputs": [
        {
          "output_type": "stream",
          "name": "stdout",
          "text": [
            "Drive already mounted at /content/drive; to attempt to forcibly remount, call drive.mount(\"/content/drive\", force_remount=True).\n"
          ]
        }
      ],
      "source": [
        "from google.colab import drive\n",
        "drive.mount('/content/drive')"
      ]
    },
    {
      "cell_type": "markdown",
      "source": [
        "**Moving to Path Folder & Installing  Dependencies**"
      ],
      "metadata": {
        "id": "pBbWuOxDHR6N"
      }
    },
    {
      "cell_type": "code",
      "execution_count": 1,
      "metadata": {
        "colab": {
          "base_uri": "https://localhost:8080/"
        },
        "id": "ZS-iieWXwgTv",
        "outputId": "d3817d32-6eeb-4700-920e-eb88c6a57740"
      },
      "outputs": [
        {
          "output_type": "stream",
          "name": "stdout",
          "text": [
            "/content/drive/MyDrive/Resnet18\n"
          ]
        }
      ],
      "source": [
        "%cd /content/drive/MyDrive/Resnet18"
      ]
    },
    {
      "cell_type": "code",
      "execution_count": 4,
      "metadata": {
        "id": "uy9fx-w-tzIY"
      },
      "outputs": [],
      "source": [
        "## Importing dependencies\n",
        "import torch\n",
        "import torch.nn as nn\n",
        "import torch.optim as optim\n",
        "from torchvision import datasets, transforms, models\n",
        "import os"
      ]
    },
    {
      "cell_type": "code",
      "execution_count": 2,
      "metadata": {
        "colab": {
          "base_uri": "https://localhost:8080/"
        },
        "id": "WNRf0AypvWGK",
        "outputId": "477fcab5-b199-4d3e-fe44-246a6bead431"
      },
      "outputs": [
        {
          "output_type": "stream",
          "name": "stdout",
          "text": [
            "APHU6500062_20240601072327.jpg\t   dataset\t    dataset_animals.zip  Res0.ipynb\n",
            "Container_cls_Adam_60Ep_model.pth  dataset_animals  model.pth\t\t Res1.ipynb\n"
          ]
        }
      ],
      "source": [
        "!ls"
      ]
    },
    {
      "cell_type": "markdown",
      "source": [
        "**Data Transformations For Data Augmentation & Normalization**"
      ],
      "metadata": {
        "id": "NE6lBbfeHv9z"
      }
    },
    {
      "cell_type": "code",
      "execution_count": 5,
      "metadata": {
        "id": "5RRp0bLsxfy6"
      },
      "outputs": [],
      "source": [
        "## Data transformations for data augmentation and normalization\n",
        "data_transforms = {\n",
        "    'train': transforms.Compose([\n",
        "        transforms.RandomResizedCrop(256),\n",
        "        transforms.RandomHorizontalFlip(),\n",
        "        transforms.RandomAffine(degrees=0, shear=20, scale=(0.8, 1.2)),  ## Shear range and zoom (in & out) range\n",
        "        transforms.ToTensor(),                                           ## Transform to pixle values [0,1]\n",
        "        transforms.Normalize([0.485, 0.456, 0.406], [0.229, 0.224, 0.225])\n",
        "    ]),\n",
        "    'val': transforms.Compose([\n",
        "        transforms.Resize(256),\n",
        "        transforms.CenterCrop(256),\n",
        "        transforms.ToTensor(),\n",
        "        transforms.Normalize([0.485, 0.456, 0.406], [0.229, 0.224, 0.225])\n",
        "    ]),\n",
        "}\n"
      ]
    },
    {
      "cell_type": "markdown",
      "source": [
        "**Dataset Path and Dataloader**"
      ],
      "metadata": {
        "id": "aqpAAGINIA_D"
      }
    },
    {
      "cell_type": "code",
      "execution_count": 6,
      "metadata": {
        "colab": {
          "base_uri": "https://localhost:8080/"
        },
        "id": "bx6VbNs8yCiC",
        "outputId": "0893d972-1696-49cb-df17-d7ae990273d5"
      },
      "outputs": [
        {
          "output_type": "stream",
          "name": "stdout",
          "text": [
            "{'train': 353, 'val': 89}\n",
            "['Clean', 'Garbage', 'Incomplete', 'Not Clean']\n"
          ]
        },
        {
          "output_type": "stream",
          "name": "stderr",
          "text": [
            "/usr/local/lib/python3.11/dist-packages/torch/utils/data/dataloader.py:617: UserWarning: This DataLoader will create 4 worker processes in total. Our suggested max number of worker in current system is 2, which is smaller than what this DataLoader is going to create. Please be aware that excessive worker creation might get DataLoader running slow or even freeze, lower the worker number to avoid potential slowness/freeze if necessary.\n",
            "  warnings.warn(\n"
          ]
        }
      ],
      "source": [
        "## Dataset path\n",
        "data_dir = '/content/drive/MyDrive/Resnet18/dataset'\n",
        "\n",
        "## Data loaders\n",
        "image_datasets = {x: datasets.ImageFolder(os.path.join(data_dir, x), data_transforms[x]) for x in ['train', 'val']}\n",
        "\n",
        "dataloaders = {x: torch.utils.data.DataLoader(image_datasets[x], batch_size=4, shuffle=True, num_workers=4) for x in ['train', 'val']}\n",
        "dataset_sizes = {x: len(image_datasets[x]) for x in ['train', 'val']}\n",
        "print(dataset_sizes)         ## To print dataset size\n",
        "\n",
        "class_names = image_datasets['train'].classes\n",
        "print(class_names)            ## To print classes names"
      ]
    },
    {
      "cell_type": "markdown",
      "source": [
        "**Loading Pre-trained ResNet-18, Freezing All Layers Except layer4 & fc, Adding custom dense layers, Loss Function and Optimizer**"
      ],
      "metadata": {
        "id": "dL8NnyIpIeJF"
      }
    },
    {
      "cell_type": "code",
      "execution_count": 8,
      "metadata": {
        "colab": {
          "base_uri": "https://localhost:8080/"
        },
        "id": "6sjJM8Yr0Beh",
        "outputId": "f1da83b1-6ad1-44e2-a2d0-7882f998f6bc"
      },
      "outputs": [
        {
          "output_type": "stream",
          "name": "stdout",
          "text": [
            "Parameters that gonna be trained:\n",
            "\t layer4.0.conv1.weight True\n",
            "\t layer4.0.bn1.weight True\n",
            "\t layer4.0.bn1.bias True\n",
            "\t layer4.0.conv2.weight True\n",
            "\t layer4.0.bn2.weight True\n",
            "\t layer4.0.bn2.bias True\n",
            "\t layer4.0.downsample.0.weight True\n",
            "\t layer4.0.downsample.1.weight True\n",
            "\t layer4.0.downsample.1.bias True\n",
            "\t layer4.1.conv1.weight True\n",
            "\t layer4.1.bn1.weight True\n",
            "\t layer4.1.bn1.bias True\n",
            "\t layer4.1.conv2.weight True\n",
            "\t layer4.1.bn2.weight True\n",
            "\t layer4.1.bn2.bias True\n",
            "\t fc.weight True\n",
            "\t fc.bias True\n",
            "Total parameters to train: 17\n"
          ]
        }
      ],
      "source": [
        "## Loading pre-trained ResNet-18 model\n",
        "model = models.resnet18(pretrained=True)\n",
        "\n",
        "## Freeze all layers except 'layer4' and 'fc'\n",
        "for name, param in model.named_parameters():\n",
        "    if \"layer4\" not in name and 'fc' not in name:\n",
        "        param.requires_grad = False\n",
        "\n",
        "## Parameters that gonna be trained\n",
        "print(\"Parameters that gonna be trained:\")\n",
        "parameters_to_train = []\n",
        "for name, param in model.named_parameters():\n",
        "    if param.requires_grad:\n",
        "        parameters_to_train.append(param)\n",
        "        print(\"\\t\", name,param.requires_grad)\n",
        "print(\"Total parameters to train:\", len(parameters_to_train))\n",
        "\n",
        "## Adding 4 FC layers\n",
        "# Modify the final fully connected layer\n",
        "num_ftrs = model.fc.in_features  # Number of features from the ResNet-18 backbone\n",
        "model.fc = nn.Sequential(\n",
        "    nn.Linear(num_ftrs, 256),    # First dense layer\n",
        "    nn.ReLU(),                   # Activation for the first dense layer\n",
        "    nn.Dropout(0.5),           # Dropout layer\n",
        "    nn.Linear(256, 128),        # Second dense layer\n",
        "    nn.ReLU(),                   # Activation for the second dense layer\n",
        "    nn.Dropout(0.5),\n",
        "    nn.Linear(128, 64),         # Third dense layer\n",
        "    nn.ReLU(),                   # Activation for the third dense layer\n",
        "    nn.Linear(64, len(class_names)),  # Fourth dense layer\n",
        "    nn.Softmax(dim=1)            # Softmax activation for output probabilities\n",
        ")\n",
        "\n",
        "\n",
        "\n",
        "## Loss function & Optimizer\n",
        "criterion = nn.CrossEntropyLoss()       ## Loss function\n",
        "# optimizer = optim.SGD(model.parameters(), lr=5e-7, momentum=0.9)     ## Optimizer & LR = 5x10^-7\n",
        "optimizer = optim.Adam(model.parameters(), lr=0.0001, betas=(0.9, 0.999))\n",
        "\n",
        "## Move the model to the GPU if available\n",
        "device = torch.device(\"cuda:0\" if torch.cuda.is_available() else \"cpu\")\n",
        "model = model.to(device)"
      ]
    },
    {
      "cell_type": "markdown",
      "source": [
        "**Model Summary**"
      ],
      "metadata": {
        "id": "W2OR7s3bJGF5"
      }
    },
    {
      "cell_type": "code",
      "source": [
        "!pip install torchinfo\n",
        "\n",
        "from torchinfo import summary\n",
        "\n",
        "## This model is our trained model\n",
        "summary(model, input_size=(4, 3, 256, 256))  ## Batch size, No. of channels (RGB), Input size"
      ],
      "metadata": {
        "colab": {
          "base_uri": "https://localhost:8080/"
        },
        "id": "n7u3SZDzGIuv",
        "outputId": "940712d9-3fb0-4dfd-9b49-1120e2e463a5"
      },
      "execution_count": 13,
      "outputs": [
        {
          "output_type": "stream",
          "name": "stdout",
          "text": [
            "Requirement already satisfied: torchinfo in /usr/local/lib/python3.11/dist-packages (1.8.0)\n"
          ]
        },
        {
          "output_type": "execute_result",
          "data": {
            "text/plain": [
              "==========================================================================================\n",
              "Layer (type:depth-idx)                   Output Shape              Param #\n",
              "==========================================================================================\n",
              "ResNet                                   [4, 4]                    --\n",
              "├─Conv2d: 1-1                            [4, 64, 128, 128]         (9,408)\n",
              "├─BatchNorm2d: 1-2                       [4, 64, 128, 128]         (128)\n",
              "├─ReLU: 1-3                              [4, 64, 128, 128]         --\n",
              "├─MaxPool2d: 1-4                         [4, 64, 64, 64]           --\n",
              "├─Sequential: 1-5                        [4, 64, 64, 64]           --\n",
              "│    └─BasicBlock: 2-1                   [4, 64, 64, 64]           --\n",
              "│    │    └─Conv2d: 3-1                  [4, 64, 64, 64]           (36,864)\n",
              "│    │    └─BatchNorm2d: 3-2             [4, 64, 64, 64]           (128)\n",
              "│    │    └─ReLU: 3-3                    [4, 64, 64, 64]           --\n",
              "│    │    └─Conv2d: 3-4                  [4, 64, 64, 64]           (36,864)\n",
              "│    │    └─BatchNorm2d: 3-5             [4, 64, 64, 64]           (128)\n",
              "│    │    └─ReLU: 3-6                    [4, 64, 64, 64]           --\n",
              "│    └─BasicBlock: 2-2                   [4, 64, 64, 64]           --\n",
              "│    │    └─Conv2d: 3-7                  [4, 64, 64, 64]           (36,864)\n",
              "│    │    └─BatchNorm2d: 3-8             [4, 64, 64, 64]           (128)\n",
              "│    │    └─ReLU: 3-9                    [4, 64, 64, 64]           --\n",
              "│    │    └─Conv2d: 3-10                 [4, 64, 64, 64]           (36,864)\n",
              "│    │    └─BatchNorm2d: 3-11            [4, 64, 64, 64]           (128)\n",
              "│    │    └─ReLU: 3-12                   [4, 64, 64, 64]           --\n",
              "├─Sequential: 1-6                        [4, 128, 32, 32]          --\n",
              "│    └─BasicBlock: 2-3                   [4, 128, 32, 32]          --\n",
              "│    │    └─Conv2d: 3-13                 [4, 128, 32, 32]          (73,728)\n",
              "│    │    └─BatchNorm2d: 3-14            [4, 128, 32, 32]          (256)\n",
              "│    │    └─ReLU: 3-15                   [4, 128, 32, 32]          --\n",
              "│    │    └─Conv2d: 3-16                 [4, 128, 32, 32]          (147,456)\n",
              "│    │    └─BatchNorm2d: 3-17            [4, 128, 32, 32]          (256)\n",
              "│    │    └─Sequential: 3-18             [4, 128, 32, 32]          (8,448)\n",
              "│    │    └─ReLU: 3-19                   [4, 128, 32, 32]          --\n",
              "│    └─BasicBlock: 2-4                   [4, 128, 32, 32]          --\n",
              "│    │    └─Conv2d: 3-20                 [4, 128, 32, 32]          (147,456)\n",
              "│    │    └─BatchNorm2d: 3-21            [4, 128, 32, 32]          (256)\n",
              "│    │    └─ReLU: 3-22                   [4, 128, 32, 32]          --\n",
              "│    │    └─Conv2d: 3-23                 [4, 128, 32, 32]          (147,456)\n",
              "│    │    └─BatchNorm2d: 3-24            [4, 128, 32, 32]          (256)\n",
              "│    │    └─ReLU: 3-25                   [4, 128, 32, 32]          --\n",
              "├─Sequential: 1-7                        [4, 256, 16, 16]          --\n",
              "│    └─BasicBlock: 2-5                   [4, 256, 16, 16]          --\n",
              "│    │    └─Conv2d: 3-26                 [4, 256, 16, 16]          (294,912)\n",
              "│    │    └─BatchNorm2d: 3-27            [4, 256, 16, 16]          (512)\n",
              "│    │    └─ReLU: 3-28                   [4, 256, 16, 16]          --\n",
              "│    │    └─Conv2d: 3-29                 [4, 256, 16, 16]          (589,824)\n",
              "│    │    └─BatchNorm2d: 3-30            [4, 256, 16, 16]          (512)\n",
              "│    │    └─Sequential: 3-31             [4, 256, 16, 16]          (33,280)\n",
              "│    │    └─ReLU: 3-32                   [4, 256, 16, 16]          --\n",
              "│    └─BasicBlock: 2-6                   [4, 256, 16, 16]          --\n",
              "│    │    └─Conv2d: 3-33                 [4, 256, 16, 16]          (589,824)\n",
              "│    │    └─BatchNorm2d: 3-34            [4, 256, 16, 16]          (512)\n",
              "│    │    └─ReLU: 3-35                   [4, 256, 16, 16]          --\n",
              "│    │    └─Conv2d: 3-36                 [4, 256, 16, 16]          (589,824)\n",
              "│    │    └─BatchNorm2d: 3-37            [4, 256, 16, 16]          (512)\n",
              "│    │    └─ReLU: 3-38                   [4, 256, 16, 16]          --\n",
              "├─Sequential: 1-8                        [4, 512, 8, 8]            --\n",
              "│    └─BasicBlock: 2-7                   [4, 512, 8, 8]            --\n",
              "│    │    └─Conv2d: 3-39                 [4, 512, 8, 8]            1,179,648\n",
              "│    │    └─BatchNorm2d: 3-40            [4, 512, 8, 8]            1,024\n",
              "│    │    └─ReLU: 3-41                   [4, 512, 8, 8]            --\n",
              "│    │    └─Conv2d: 3-42                 [4, 512, 8, 8]            2,359,296\n",
              "│    │    └─BatchNorm2d: 3-43            [4, 512, 8, 8]            1,024\n",
              "│    │    └─Sequential: 3-44             [4, 512, 8, 8]            132,096\n",
              "│    │    └─ReLU: 3-45                   [4, 512, 8, 8]            --\n",
              "│    └─BasicBlock: 2-8                   [4, 512, 8, 8]            --\n",
              "│    │    └─Conv2d: 3-46                 [4, 512, 8, 8]            2,359,296\n",
              "│    │    └─BatchNorm2d: 3-47            [4, 512, 8, 8]            1,024\n",
              "│    │    └─ReLU: 3-48                   [4, 512, 8, 8]            --\n",
              "│    │    └─Conv2d: 3-49                 [4, 512, 8, 8]            2,359,296\n",
              "│    │    └─BatchNorm2d: 3-50            [4, 512, 8, 8]            1,024\n",
              "│    │    └─ReLU: 3-51                   [4, 512, 8, 8]            --\n",
              "├─AdaptiveAvgPool2d: 1-9                 [4, 512, 1, 1]            --\n",
              "├─Sequential: 1-10                       [4, 4]                    --\n",
              "│    └─Linear: 2-9                       [4, 256]                  131,328\n",
              "│    └─ReLU: 2-10                        [4, 256]                  --\n",
              "│    └─Dropout: 2-11                     [4, 256]                  --\n",
              "│    └─Linear: 2-12                      [4, 128]                  32,896\n",
              "│    └─ReLU: 2-13                        [4, 128]                  --\n",
              "│    └─Dropout: 2-14                     [4, 128]                  --\n",
              "│    └─Linear: 2-15                      [4, 64]                   8,256\n",
              "│    └─ReLU: 2-16                        [4, 64]                   --\n",
              "│    └─Linear: 2-17                      [4, 4]                    260\n",
              "│    └─Softmax: 2-18                     [4, 4]                    --\n",
              "==========================================================================================\n",
              "Total params: 11,349,252\n",
              "Trainable params: 8,566,468\n",
              "Non-trainable params: 2,782,784\n",
              "Total mult-adds (Units.GIGABYTES): 9.48\n",
              "==========================================================================================\n",
              "Input size (MB): 3.15\n",
              "Forward/backward pass size (MB): 207.63\n",
              "Params size (MB): 45.40\n",
              "Estimated Total Size (MB): 256.18\n",
              "=========================================================================================="
            ]
          },
          "metadata": {},
          "execution_count": 13
        }
      ]
    },
    {
      "cell_type": "markdown",
      "source": [
        "**Training The Model**"
      ],
      "metadata": {
        "id": "KAr53kSSJSVN"
      }
    },
    {
      "cell_type": "code",
      "execution_count": null,
      "metadata": {
        "colab": {
          "base_uri": "https://localhost:8080/",
          "height": 1000
        },
        "id": "7CCDtcAB2G7k",
        "outputId": "89c9f8a1-c3c7-42ad-e1b2-95969e3a8939"
      },
      "outputs": [
        {
          "output_type": "stream",
          "name": "stdout",
          "text": [
            "train Loss: 1.3570 Acc: 0.4533\n",
            "val Loss: 1.2585 Acc: 0.5281\n",
            "train Loss: 1.2511 Acc: 0.5354\n",
            "val Loss: 1.1771 Acc: 0.5506\n",
            "train Loss: 1.1890 Acc: 0.5411\n",
            "val Loss: 1.1588 Acc: 0.5506\n",
            "train Loss: 1.1235 Acc: 0.6034\n",
            "val Loss: 1.1225 Acc: 0.5506\n",
            "train Loss: 1.1105 Acc: 0.6006\n",
            "val Loss: 1.1025 Acc: 0.6517\n",
            "train Loss: 1.0806 Acc: 0.6487\n",
            "val Loss: 1.0969 Acc: 0.6517\n",
            "train Loss: 1.0897 Acc: 0.6657\n",
            "val Loss: 1.0591 Acc: 0.7191\n",
            "train Loss: 1.0569 Acc: 0.6969\n",
            "val Loss: 1.0446 Acc: 0.7191\n",
            "train Loss: 1.0485 Acc: 0.7139\n",
            "val Loss: 1.0433 Acc: 0.7079\n",
            "train Loss: 1.0398 Acc: 0.7082\n",
            "val Loss: 1.0542 Acc: 0.6854\n",
            "train Loss: 1.0457 Acc: 0.7025\n",
            "val Loss: 1.0234 Acc: 0.7191\n",
            "train Loss: 1.0465 Acc: 0.6912\n",
            "val Loss: 1.0247 Acc: 0.7191\n",
            "train Loss: 1.0421 Acc: 0.7110\n",
            "val Loss: 1.0339 Acc: 0.7079\n",
            "train Loss: 1.0311 Acc: 0.7054\n",
            "val Loss: 1.0031 Acc: 0.7303\n",
            "train Loss: 1.0260 Acc: 0.7167\n",
            "val Loss: 1.0542 Acc: 0.6854\n",
            "train Loss: 1.0227 Acc: 0.7309\n",
            "val Loss: 0.9970 Acc: 0.7416\n",
            "train Loss: 1.0486 Acc: 0.6856\n",
            "val Loss: 0.9946 Acc: 0.7640\n",
            "train Loss: 0.9911 Acc: 0.7564\n",
            "val Loss: 0.9748 Acc: 0.7640\n",
            "train Loss: 1.0202 Acc: 0.7337\n",
            "val Loss: 1.0050 Acc: 0.7303\n",
            "train Loss: 1.0533 Acc: 0.6827\n",
            "val Loss: 1.0231 Acc: 0.7079\n",
            "train Loss: 1.0137 Acc: 0.7280\n",
            "val Loss: 1.0168 Acc: 0.7303\n",
            "train Loss: 1.0052 Acc: 0.7394\n",
            "val Loss: 1.0293 Acc: 0.6966\n",
            "train Loss: 1.0388 Acc: 0.7025\n",
            "val Loss: 1.0232 Acc: 0.7079\n",
            "train Loss: 0.9892 Acc: 0.7507\n",
            "val Loss: 1.0092 Acc: 0.7303\n",
            "train Loss: 0.9953 Acc: 0.7394\n",
            "val Loss: 1.0335 Acc: 0.7079\n",
            "train Loss: 1.0249 Acc: 0.7195\n",
            "val Loss: 0.9966 Acc: 0.7303\n",
            "train Loss: 0.9880 Acc: 0.7564\n",
            "val Loss: 1.0144 Acc: 0.7191\n",
            "train Loss: 0.9917 Acc: 0.7535\n",
            "val Loss: 1.0325 Acc: 0.7079\n",
            "train Loss: 1.0118 Acc: 0.7280\n",
            "val Loss: 1.0098 Acc: 0.7416\n",
            "train Loss: 1.0160 Acc: 0.7167\n",
            "val Loss: 1.0515 Acc: 0.6854\n",
            "train Loss: 0.9919 Acc: 0.7507\n",
            "val Loss: 0.9995 Acc: 0.7528\n",
            "train Loss: 0.9981 Acc: 0.7450\n",
            "val Loss: 1.0137 Acc: 0.7303\n",
            "train Loss: 0.9852 Acc: 0.7564\n",
            "val Loss: 1.0055 Acc: 0.7416\n",
            "train Loss: 1.0023 Acc: 0.7365\n",
            "val Loss: 1.0164 Acc: 0.7303\n",
            "train Loss: 1.0151 Acc: 0.7195\n",
            "val Loss: 1.0342 Acc: 0.7079\n",
            "train Loss: 1.0057 Acc: 0.7394\n",
            "val Loss: 1.0178 Acc: 0.7191\n",
            "train Loss: 0.9790 Acc: 0.7620\n",
            "val Loss: 1.0232 Acc: 0.7079\n",
            "train Loss: 1.0255 Acc: 0.7195\n",
            "val Loss: 1.0145 Acc: 0.7303\n",
            "train Loss: 1.0230 Acc: 0.7195\n",
            "val Loss: 1.0105 Acc: 0.7303\n",
            "train Loss: 1.0210 Acc: 0.7280\n",
            "val Loss: 1.0097 Acc: 0.7303\n",
            "train Loss: 1.0178 Acc: 0.7252\n",
            "val Loss: 1.0099 Acc: 0.7303\n",
            "train Loss: 1.0030 Acc: 0.7394\n",
            "val Loss: 0.9937 Acc: 0.7528\n",
            "train Loss: 0.9870 Acc: 0.7564\n",
            "val Loss: 1.0031 Acc: 0.7416\n",
            "train Loss: 1.0007 Acc: 0.7450\n",
            "val Loss: 0.9855 Acc: 0.7640\n",
            "train Loss: 0.9933 Acc: 0.7507\n",
            "val Loss: 1.0121 Acc: 0.7303\n",
            "train Loss: 0.9908 Acc: 0.7507\n",
            "val Loss: 1.0107 Acc: 0.7303\n",
            "train Loss: 0.9849 Acc: 0.7564\n",
            "val Loss: 1.0331 Acc: 0.7079\n",
            "train Loss: 0.9885 Acc: 0.7507\n",
            "val Loss: 1.0177 Acc: 0.7303\n",
            "train Loss: 0.9926 Acc: 0.7535\n",
            "val Loss: 0.9919 Acc: 0.7640\n",
            "train Loss: 0.9762 Acc: 0.7677\n",
            "val Loss: 1.0334 Acc: 0.7079\n",
            "train Loss: 1.0147 Acc: 0.7195\n",
            "val Loss: 1.0139 Acc: 0.7303\n",
            "train Loss: 0.9843 Acc: 0.7620\n",
            "val Loss: 1.0347 Acc: 0.6966\n",
            "train Loss: 1.0032 Acc: 0.7365\n",
            "val Loss: 1.0176 Acc: 0.7191\n",
            "train Loss: 1.0112 Acc: 0.7280\n",
            "val Loss: 1.0054 Acc: 0.7416\n",
            "train Loss: 0.9799 Acc: 0.7649\n",
            "val Loss: 1.0156 Acc: 0.7303\n",
            "train Loss: 0.9824 Acc: 0.7649\n",
            "val Loss: 1.0077 Acc: 0.7416\n",
            "train Loss: 1.0452 Acc: 0.6912\n",
            "val Loss: 1.0197 Acc: 0.7191\n",
            "train Loss: 0.9639 Acc: 0.7790\n",
            "val Loss: 0.9848 Acc: 0.7528\n",
            "train Loss: 0.9851 Acc: 0.7620\n",
            "val Loss: 1.0022 Acc: 0.7416\n",
            "train Loss: 0.9796 Acc: 0.7620\n",
            "val Loss: 0.9843 Acc: 0.7640\n",
            "Congrats Training complete!\n"
          ]
        },
        {
          "output_type": "display_data",
          "data": {
            "text/plain": [
              "<Figure size 1400x500 with 2 Axes>"
            ],
            "image/png": "[encoded data removed]"
          },
          "metadata": {}
        }
      ],
      "source": [
        "## Training\n",
        "import matplotlib.pyplot as plt\n",
        "\n",
        "## Dictionaries to store train and val loss and accuracy\n",
        "history = {'train_loss': [], 'val_loss': [], 'train_acc': [], 'val_acc': []}\n",
        "\n",
        "num_epochs = 60\n",
        "for epoch in range(num_epochs):\n",
        "    for phase in ['train', 'val']:\n",
        "        if phase == 'train':\n",
        "            model.train()\n",
        "        else:\n",
        "            model.eval()\n",
        "\n",
        "        running_loss = 0.0\n",
        "        running_corrects = 0\n",
        "\n",
        "        for inputs, labels in dataloaders[phase]:\n",
        "            inputs = inputs.to(device)\n",
        "            labels = labels.to(device)\n",
        "\n",
        "            optimizer.zero_grad()\n",
        "\n",
        "            with torch.set_grad_enabled(phase == 'train'):\n",
        "                outputs = model(inputs)\n",
        "                _, preds = torch.max(outputs, 1)\n",
        "                loss = criterion(outputs, labels)\n",
        "\n",
        "                if phase == 'train':\n",
        "                    loss.backward()\n",
        "                    optimizer.step()\n",
        "\n",
        "            running_loss += loss.item() * inputs.size(0)\n",
        "            running_corrects += torch.sum(preds == labels.data)\n",
        "\n",
        "        epoch_loss = running_loss / dataset_sizes[phase]\n",
        "        epoch_acc = running_corrects.double() / dataset_sizes[phase]\n",
        "\n",
        "        print(f'{phase} Loss: {epoch_loss:.4f} Acc: {epoch_acc:.4f}')\n",
        "\n",
        "        ## Store the metrics in the history dictionary\n",
        "        if phase == 'train':\n",
        "            history['train_loss'].append(epoch_loss)\n",
        "            history['train_acc'].append(epoch_acc.item())\n",
        "        else:\n",
        "            history['val_loss'].append(epoch_loss)\n",
        "            history['val_acc'].append(epoch_acc.item())\n",
        "\n",
        "print(\"Congrats Training complete!\")\n",
        "\n",
        "## Plot Loss and Accuracy\n",
        "epochs = range(1, num_epochs + 1)\n",
        "\n",
        "plt.figure(figsize=(14, 5))\n",
        "\n",
        "\n",
        "## Plot Loss\n",
        "plt.subplot(1, 2, 1)\n",
        "plt.plot(epochs, history['train_loss'], label='Training Loss')\n",
        "plt.plot(epochs, history['val_loss'], label='Validation Loss')\n",
        "plt.xlabel('Epochs')\n",
        "plt.ylabel('Loss')\n",
        "plt.title('Training and Validation Loss')\n",
        "plt.legend()\n",
        "\n",
        "## Plot Accuracy\n",
        "plt.subplot(1, 2, 2)\n",
        "plt.plot(epochs, history['train_acc'], label='Training Accuracy')\n",
        "plt.plot(epochs, history['val_acc'], label='Validation Accuracy')\n",
        "plt.xlabel('Epochs')\n",
        "plt.ylabel('Accuracy')\n",
        "plt.title('Training and Validation Accuracy')\n",
        "plt.legend()\n",
        "\n",
        "plt.tight_layout()\n",
        "plt.show()\n",
        "\n"
      ]
    },
    {
      "cell_type": "markdown",
      "source": [
        "**Saving The Model**"
      ],
      "metadata": {
        "id": "9GnO-NfFJii0"
      }
    },
    {
      "cell_type": "code",
      "source": [
        "## Saving the model\n",
        "# torch.save(model.state_dict(), 'Container_classifier_SGD_model.pth')\n",
        "torch.save(model.state_dict(), 'Container_cls_Adam_60Ep_model.pth')"
      ],
      "metadata": {
        "id": "MfSD0ymGV3PS"
      },
      "execution_count": null,
      "outputs": []
    },
    {
      "cell_type": "code",
      "source": [
        "torch.save(model, 'model.pth')"
      ],
      "metadata": {
        "id": "x-zXvrf7vZUs"
      },
      "execution_count": null,
      "outputs": []
    },
    {
      "cell_type": "code",
      "source": [
        "# import torch\n",
        "\n",
        "# # Load the saved model\n",
        "# model = torch.load('model.pth')\n",
        "\n",
        "# # Move the model to the appropriate device\n",
        "# device = torch.device(\"cuda:0\" if torch.cuda.is_available() else \"cpu\")\n",
        "# model = model.to(device)"
      ],
      "metadata": {
        "id": "Hb84QbLYwRFW"
      },
      "execution_count": 11,
      "outputs": []
    },
    {
      "cell_type": "markdown",
      "source": [
        "**Model Summary**"
      ],
      "metadata": {
        "id": "LnKbv40TLn7u"
      }
    },
    {
      "cell_type": "code",
      "source": [
        "from torchinfo import summary\n",
        "\n",
        "## This model is our trained model\n",
        "summary(model, input_size=(4, 3, 256, 256))  ## Batch size, No. of channels (RGB), Input size"
      ],
      "metadata": {
        "colab": {
          "base_uri": "https://localhost:8080/"
        },
        "id": "_7QQ8minZoiL",
        "outputId": "68787154-ab33-4577-b949-76aa3b6b68ce"
      },
      "execution_count": 14,
      "outputs": [
        {
          "output_type": "execute_result",
          "data": {
            "text/plain": [
              "==========================================================================================\n",
              "Layer (type:depth-idx)                   Output Shape              Param #\n",
              "==========================================================================================\n",
              "ResNet                                   [4, 4]                    --\n",
              "├─Conv2d: 1-1                            [4, 64, 128, 128]         (9,408)\n",
              "├─BatchNorm2d: 1-2                       [4, 64, 128, 128]         (128)\n",
              "├─ReLU: 1-3                              [4, 64, 128, 128]         --\n",
              "├─MaxPool2d: 1-4                         [4, 64, 64, 64]           --\n",
              "├─Sequential: 1-5                        [4, 64, 64, 64]           --\n",
              "│    └─BasicBlock: 2-1                   [4, 64, 64, 64]           --\n",
              "│    │    └─Conv2d: 3-1                  [4, 64, 64, 64]           (36,864)\n",
              "│    │    └─BatchNorm2d: 3-2             [4, 64, 64, 64]           (128)\n",
              "│    │    └─ReLU: 3-3                    [4, 64, 64, 64]           --\n",
              "│    │    └─Conv2d: 3-4                  [4, 64, 64, 64]           (36,864)\n",
              "│    │    └─BatchNorm2d: 3-5             [4, 64, 64, 64]           (128)\n",
              "│    │    └─ReLU: 3-6                    [4, 64, 64, 64]           --\n",
              "│    └─BasicBlock: 2-2                   [4, 64, 64, 64]           --\n",
              "│    │    └─Conv2d: 3-7                  [4, 64, 64, 64]           (36,864)\n",
              "│    │    └─BatchNorm2d: 3-8             [4, 64, 64, 64]           (128)\n",
              "│    │    └─ReLU: 3-9                    [4, 64, 64, 64]           --\n",
              "│    │    └─Conv2d: 3-10                 [4, 64, 64, 64]           (36,864)\n",
              "│    │    └─BatchNorm2d: 3-11            [4, 64, 64, 64]           (128)\n",
              "│    │    └─ReLU: 3-12                   [4, 64, 64, 64]           --\n",
              "├─Sequential: 1-6                        [4, 128, 32, 32]          --\n",
              "│    └─BasicBlock: 2-3                   [4, 128, 32, 32]          --\n",
              "│    │    └─Conv2d: 3-13                 [4, 128, 32, 32]          (73,728)\n",
              "│    │    └─BatchNorm2d: 3-14            [4, 128, 32, 32]          (256)\n",
              "│    │    └─ReLU: 3-15                   [4, 128, 32, 32]          --\n",
              "│    │    └─Conv2d: 3-16                 [4, 128, 32, 32]          (147,456)\n",
              "│    │    └─BatchNorm2d: 3-17            [4, 128, 32, 32]          (256)\n",
              "│    │    └─Sequential: 3-18             [4, 128, 32, 32]          (8,448)\n",
              "│    │    └─ReLU: 3-19                   [4, 128, 32, 32]          --\n",
              "│    └─BasicBlock: 2-4                   [4, 128, 32, 32]          --\n",
              "│    │    └─Conv2d: 3-20                 [4, 128, 32, 32]          (147,456)\n",
              "│    │    └─BatchNorm2d: 3-21            [4, 128, 32, 32]          (256)\n",
              "│    │    └─ReLU: 3-22                   [4, 128, 32, 32]          --\n",
              "│    │    └─Conv2d: 3-23                 [4, 128, 32, 32]          (147,456)\n",
              "│    │    └─BatchNorm2d: 3-24            [4, 128, 32, 32]          (256)\n",
              "│    │    └─ReLU: 3-25                   [4, 128, 32, 32]          --\n",
              "├─Sequential: 1-7                        [4, 256, 16, 16]          --\n",
              "│    └─BasicBlock: 2-5                   [4, 256, 16, 16]          --\n",
              "│    │    └─Conv2d: 3-26                 [4, 256, 16, 16]          (294,912)\n",
              "│    │    └─BatchNorm2d: 3-27            [4, 256, 16, 16]          (512)\n",
              "│    │    └─ReLU: 3-28                   [4, 256, 16, 16]          --\n",
              "│    │    └─Conv2d: 3-29                 [4, 256, 16, 16]          (589,824)\n",
              "│    │    └─BatchNorm2d: 3-30            [4, 256, 16, 16]          (512)\n",
              "│    │    └─Sequential: 3-31             [4, 256, 16, 16]          (33,280)\n",
              "│    │    └─ReLU: 3-32                   [4, 256, 16, 16]          --\n",
              "│    └─BasicBlock: 2-6                   [4, 256, 16, 16]          --\n",
              "│    │    └─Conv2d: 3-33                 [4, 256, 16, 16]          (589,824)\n",
              "│    │    └─BatchNorm2d: 3-34            [4, 256, 16, 16]          (512)\n",
              "│    │    └─ReLU: 3-35                   [4, 256, 16, 16]          --\n",
              "│    │    └─Conv2d: 3-36                 [4, 256, 16, 16]          (589,824)\n",
              "│    │    └─BatchNorm2d: 3-37            [4, 256, 16, 16]          (512)\n",
              "│    │    └─ReLU: 3-38                   [4, 256, 16, 16]          --\n",
              "├─Sequential: 1-8                        [4, 512, 8, 8]            --\n",
              "│    └─BasicBlock: 2-7                   [4, 512, 8, 8]            --\n",
              "│    │    └─Conv2d: 3-39                 [4, 512, 8, 8]            1,179,648\n",
              "│    │    └─BatchNorm2d: 3-40            [4, 512, 8, 8]            1,024\n",
              "│    │    └─ReLU: 3-41                   [4, 512, 8, 8]            --\n",
              "│    │    └─Conv2d: 3-42                 [4, 512, 8, 8]            2,359,296\n",
              "│    │    └─BatchNorm2d: 3-43            [4, 512, 8, 8]            1,024\n",
              "│    │    └─Sequential: 3-44             [4, 512, 8, 8]            132,096\n",
              "│    │    └─ReLU: 3-45                   [4, 512, 8, 8]            --\n",
              "│    └─BasicBlock: 2-8                   [4, 512, 8, 8]            --\n",
              "│    │    └─Conv2d: 3-46                 [4, 512, 8, 8]            2,359,296\n",
              "│    │    └─BatchNorm2d: 3-47            [4, 512, 8, 8]            1,024\n",
              "│    │    └─ReLU: 3-48                   [4, 512, 8, 8]            --\n",
              "│    │    └─Conv2d: 3-49                 [4, 512, 8, 8]            2,359,296\n",
              "│    │    └─BatchNorm2d: 3-50            [4, 512, 8, 8]            1,024\n",
              "│    │    └─ReLU: 3-51                   [4, 512, 8, 8]            --\n",
              "├─AdaptiveAvgPool2d: 1-9                 [4, 512, 1, 1]            --\n",
              "├─Sequential: 1-10                       [4, 4]                    --\n",
              "│    └─Linear: 2-9                       [4, 256]                  131,328\n",
              "│    └─ReLU: 2-10                        [4, 256]                  --\n",
              "│    └─Dropout: 2-11                     [4, 256]                  --\n",
              "│    └─Linear: 2-12                      [4, 128]                  32,896\n",
              "│    └─ReLU: 2-13                        [4, 128]                  --\n",
              "│    └─Dropout: 2-14                     [4, 128]                  --\n",
              "│    └─Linear: 2-15                      [4, 64]                   8,256\n",
              "│    └─ReLU: 2-16                        [4, 64]                   --\n",
              "│    └─Linear: 2-17                      [4, 4]                    260\n",
              "│    └─Softmax: 2-18                     [4, 4]                    --\n",
              "==========================================================================================\n",
              "Total params: 11,349,252\n",
              "Trainable params: 8,566,468\n",
              "Non-trainable params: 2,782,784\n",
              "Total mult-adds (Units.GIGABYTES): 9.48\n",
              "==========================================================================================\n",
              "Input size (MB): 3.15\n",
              "Forward/backward pass size (MB): 207.63\n",
              "Params size (MB): 45.40\n",
              "Estimated Total Size (MB): 256.18\n",
              "=========================================================================================="
            ]
          },
          "metadata": {},
          "execution_count": 14
        }
      ]
    },
    {
      "cell_type": "code",
      "source": [
        "\n",
        "\n",
        "\n",
        "\n",
        "\n",
        "\n",
        "\n",
        "\n",
        "\n",
        "\n"
      ],
      "metadata": {
        "id": "8--BehfIUkud"
      },
      "execution_count": 22,
      "outputs": []
    },
    {
      "cell_type": "code",
      "source": [
        "import torch\n",
        "from torchvision import transforms\n",
        "from PIL import Image\n",
        "\n",
        "import torch\n",
        "import torch.nn as nn\n",
        "from torchvision import models\n",
        "from torchvision.transforms import Compose, Resize, ToTensor, Normalize\n",
        "from PIL import Image\n",
        "\n",
        "# Step 1: Define the model architecture\n",
        "class ContainerClassifier(nn.Module):\n",
        "    def __init__(self, num_classes=4):\n",
        "        super(ContainerClassifier, self).__init__()\n",
        "        self.backbone = models.resnet18(pretrained=False)\n",
        "        self.backbone.fc = nn.Sequential(\n",
        "            nn.Linear(512, 256),\n",
        "            nn.ReLU(),\n",
        "            nn.Dropout(0.5),\n",
        "            nn.Linear(256, 128),\n",
        "            nn.ReLU(),\n",
        "            nn.Dropout(0.5),\n",
        "            nn.Linear(128, num_classes),\n",
        "            nn.Softmax(dim=1)\n",
        "        )\n",
        "\n",
        "    def forward(self, x):\n",
        "        return self.backbone(x)\n",
        "\n",
        "# Step 2: Create an instance of the model and load weights\n",
        "model = ContainerClassifier(num_classes=4)\n",
        "model.load_state_dict(torch.load('Container_cls_Adam_60Ep_model.pth'), strict=False)\n",
        "model.eval()\n",
        "\n",
        "# Step 3: Define preprocessing for input images\n",
        "transform = Compose([\n",
        "    Resize((256, 256)),  # Resize to match input size\n",
        "    ToTensor(),\n",
        "    Normalize(mean=[0.485, 0.456, 0.406], std=[0.229, 0.224, 0.225])  # Normalize for ResNet\n",
        "])\n",
        "\n",
        "# Step 4: Load and preprocess an image\n",
        "image_path = '/content/drive/MyDrive/Resnet18/Test/img0005.jpg'  # Path to your test image\n",
        "image = Image.open(image_path).convert('RGB')  # Open and convert to RGB\n",
        "input_tensor = transform(image).unsqueeze(0)  # Add batch dimension\n",
        "\n",
        "# Step 5: Perform inference\n",
        "with torch.no_grad():\n",
        "    output = model(input_tensor)\n",
        "    predicted_class = torch.argmax(output, dim=1).item()\n",
        "\n",
        "print(f\"Predicted Class: {predicted_class}\")\n",
        "\n",
        "\n",
        "\n",
        "# ['Clean', 'Garbage', 'Incomplete', 'Not Clean']\n",
        "# Map class index to label (if applicable)\n",
        "# class_labels = {0: \"Clean\", 1: \"Garbage\", 2: \"Incomplete\", 3: \"Not Clean\"}\n",
        "# print(f\"Predicted class: {class_labels[predicted_class.item()]}\")\n"
      ],
      "metadata": {
        "id": "5XBBQRV_hhqZ",
        "colab": {
          "base_uri": "https://localhost:8080/"
        },
        "outputId": "22672e70-6905-494a-9e58-8ed8af8ed7ff"
      },
      "execution_count": 22,
      "outputs": [
        {
          "output_type": "stream",
          "name": "stdout",
          "text": [
            "Predicted Class: 3\n"
          ]
        },
        {
          "output_type": "stream",
          "name": "stderr",
          "text": [
            "<ipython-input-22-c953d83df7cd>:32: FutureWarning: You are using `torch.load` with `weights_only=False` (the current default value), which uses the default pickle module implicitly. It is possible to construct malicious pickle data which will execute arbitrary code during unpickling (See https://github.com/pytorch/pytorch/blob/main/SECURITY.md#untrusted-models for more details). In a future release, the default value for `weights_only` will be flipped to `True`. This limits the functions that could be executed during unpickling. Arbitrary objects will no longer be allowed to be loaded via this mode unless they are explicitly allowlisted by the user via `torch.serialization.add_safe_globals`. We recommend you start setting `weights_only=True` for any use case where you don't have full control of the loaded file. Please open an issue on GitHub for any issues related to this experimental feature.\n",
            "  model.load_state_dict(torch.load('Container_cls_Adam_60Ep_model.pth'), strict=False)\n"
          ]
        }
      ]
    },
    {
      "cell_type": "markdown",
      "metadata": {
        "id": "54u__HlhMXNL"
      },
      "source": [
        "<!--  -->"
      ]
    }
  ],
  "metadata": {
    "accelerator": "GPU",
    "colab": {
      "gpuType": "T4",
      "provenance": []
    },
    "kernelspec": {
      "display_name": "Python 3",
      "name": "python3"
    },
    "language_info": {
      "name": "python"
    }
  },
  "nbformat": 4,
  "nbformat_minor": 0
}